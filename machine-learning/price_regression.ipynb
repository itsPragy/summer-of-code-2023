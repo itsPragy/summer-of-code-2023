{
 "cells": [
  {
   "cell_type": "code",
   "execution_count": 19,
   "id": "21040e38",
   "metadata": {},
   "outputs": [],
   "source": [
    "import pandas as pd\n",
    "import numpy as np\n",
    "import matplotlib.pyplot as plt\n",
    "from sklearn import linear_model\n",
    "from sklearn.model_selection import train_test_split"
   ]
  },
  {
   "cell_type": "code",
   "execution_count": 56,
   "id": "5d30335a",
   "metadata": {},
   "outputs": [
    {
     "data": {
      "text/html": [
       "<div>\n",
       "<style scoped>\n",
       "    .dataframe tbody tr th:only-of-type {\n",
       "        vertical-align: middle;\n",
       "    }\n",
       "\n",
       "    .dataframe tbody tr th {\n",
       "        vertical-align: top;\n",
       "    }\n",
       "\n",
       "    .dataframe thead th {\n",
       "        text-align: right;\n",
       "    }\n",
       "</style>\n",
       "<table border=\"1\" class=\"dataframe\">\n",
       "  <thead>\n",
       "    <tr style=\"text-align: right;\">\n",
       "      <th></th>\n",
       "      <th>Laptop_Name</th>\n",
       "      <th>Popularity_Rank</th>\n",
       "      <th>ASUS</th>\n",
       "      <th>DELL</th>\n",
       "      <th>HP</th>\n",
       "      <th>Lenovo</th>\n",
       "      <th>Other brand</th>\n",
       "      <th>Processor</th>\n",
       "      <th>Score</th>\n",
       "      <th>RAM</th>\n",
       "      <th>Other OS</th>\n",
       "      <th>Windows 10</th>\n",
       "      <th>Windows 11</th>\n",
       "      <th>SSD</th>\n",
       "      <th>HDD</th>\n",
       "      <th>Display</th>\n",
       "      <th>Touchscreen</th>\n",
       "      <th>Price</th>\n",
       "    </tr>\n",
       "  </thead>\n",
       "  <tbody>\n",
       "    <tr>\n",
       "      <th>0</th>\n",
       "      <td>Lenovo IdeaPad 3 Core i3 10th Gen</td>\n",
       "      <td>1</td>\n",
       "      <td>0</td>\n",
       "      <td>0</td>\n",
       "      <td>0</td>\n",
       "      <td>1</td>\n",
       "      <td>0</td>\n",
       "      <td>Intel Core i3 Processor (10th Gen)</td>\n",
       "      <td>0.145791</td>\n",
       "      <td>8</td>\n",
       "      <td>0</td>\n",
       "      <td>0</td>\n",
       "      <td>1</td>\n",
       "      <td>256</td>\n",
       "      <td>0</td>\n",
       "      <td>39.62</td>\n",
       "      <td>0</td>\n",
       "      <td>34990</td>\n",
       "    </tr>\n",
       "    <tr>\n",
       "      <th>1</th>\n",
       "      <td>Lenovo IdeaPad 3 Core i3 11th Gen</td>\n",
       "      <td>2</td>\n",
       "      <td>0</td>\n",
       "      <td>0</td>\n",
       "      <td>0</td>\n",
       "      <td>1</td>\n",
       "      <td>0</td>\n",
       "      <td>Intel Core i3 Processor (11th Gen)</td>\n",
       "      <td>0.228445</td>\n",
       "      <td>8</td>\n",
       "      <td>0</td>\n",
       "      <td>0</td>\n",
       "      <td>1</td>\n",
       "      <td>512</td>\n",
       "      <td>0</td>\n",
       "      <td>39.62</td>\n",
       "      <td>0</td>\n",
       "      <td>41990</td>\n",
       "    </tr>\n",
       "    <tr>\n",
       "      <th>2</th>\n",
       "      <td>ASUS TUF Gaming F15 Core i5 10th Gen</td>\n",
       "      <td>3</td>\n",
       "      <td>1</td>\n",
       "      <td>0</td>\n",
       "      <td>0</td>\n",
       "      <td>0</td>\n",
       "      <td>0</td>\n",
       "      <td>Intel Core i5 Processor (10th Gen)</td>\n",
       "      <td>0.232960</td>\n",
       "      <td>8</td>\n",
       "      <td>0</td>\n",
       "      <td>0</td>\n",
       "      <td>1</td>\n",
       "      <td>512</td>\n",
       "      <td>0</td>\n",
       "      <td>39.62</td>\n",
       "      <td>0</td>\n",
       "      <td>57990</td>\n",
       "    </tr>\n",
       "    <tr>\n",
       "      <th>3</th>\n",
       "      <td>HP Core i3 11th Gen</td>\n",
       "      <td>4</td>\n",
       "      <td>0</td>\n",
       "      <td>0</td>\n",
       "      <td>1</td>\n",
       "      <td>0</td>\n",
       "      <td>0</td>\n",
       "      <td>Intel Core i3 Processor (11th Gen)</td>\n",
       "      <td>0.228445</td>\n",
       "      <td>8</td>\n",
       "      <td>0</td>\n",
       "      <td>0</td>\n",
       "      <td>1</td>\n",
       "      <td>256</td>\n",
       "      <td>0</td>\n",
       "      <td>35.56</td>\n",
       "      <td>0</td>\n",
       "      <td>36990</td>\n",
       "    </tr>\n",
       "    <tr>\n",
       "      <th>4</th>\n",
       "      <td>ASUS Core i3 11th Gen</td>\n",
       "      <td>5</td>\n",
       "      <td>1</td>\n",
       "      <td>0</td>\n",
       "      <td>0</td>\n",
       "      <td>0</td>\n",
       "      <td>0</td>\n",
       "      <td>Intel Core i3 Processor (11th Gen)</td>\n",
       "      <td>0.228445</td>\n",
       "      <td>8</td>\n",
       "      <td>0</td>\n",
       "      <td>0</td>\n",
       "      <td>1</td>\n",
       "      <td>256</td>\n",
       "      <td>0</td>\n",
       "      <td>39.62</td>\n",
       "      <td>0</td>\n",
       "      <td>34990</td>\n",
       "    </tr>\n",
       "    <tr>\n",
       "      <th>...</th>\n",
       "      <td>...</td>\n",
       "      <td>...</td>\n",
       "      <td>...</td>\n",
       "      <td>...</td>\n",
       "      <td>...</td>\n",
       "      <td>...</td>\n",
       "      <td>...</td>\n",
       "      <td>...</td>\n",
       "      <td>...</td>\n",
       "      <td>...</td>\n",
       "      <td>...</td>\n",
       "      <td>...</td>\n",
       "      <td>...</td>\n",
       "      <td>...</td>\n",
       "      <td>...</td>\n",
       "      <td>...</td>\n",
       "      <td>...</td>\n",
       "      <td>...</td>\n",
       "    </tr>\n",
       "    <tr>\n",
       "      <th>564</th>\n",
       "      <td>DELL Inspiron Ryzen 3 Dual Core 3250U</td>\n",
       "      <td>565</td>\n",
       "      <td>0</td>\n",
       "      <td>1</td>\n",
       "      <td>0</td>\n",
       "      <td>0</td>\n",
       "      <td>0</td>\n",
       "      <td>AMD Ryzen 3 Dual Core Processor</td>\n",
       "      <td>0.145135</td>\n",
       "      <td>8</td>\n",
       "      <td>0</td>\n",
       "      <td>0</td>\n",
       "      <td>1</td>\n",
       "      <td>0</td>\n",
       "      <td>1024</td>\n",
       "      <td>38.00</td>\n",
       "      <td>0</td>\n",
       "      <td>39490</td>\n",
       "    </tr>\n",
       "    <tr>\n",
       "      <th>565</th>\n",
       "      <td>Lenovo Core i3 10th Gen</td>\n",
       "      <td>566</td>\n",
       "      <td>0</td>\n",
       "      <td>0</td>\n",
       "      <td>0</td>\n",
       "      <td>1</td>\n",
       "      <td>0</td>\n",
       "      <td>Intel Core i3 Processor (10th Gen)</td>\n",
       "      <td>0.145791</td>\n",
       "      <td>4</td>\n",
       "      <td>0</td>\n",
       "      <td>1</td>\n",
       "      <td>0</td>\n",
       "      <td>0</td>\n",
       "      <td>1024</td>\n",
       "      <td>35.56</td>\n",
       "      <td>0</td>\n",
       "      <td>44590</td>\n",
       "    </tr>\n",
       "    <tr>\n",
       "      <th>566</th>\n",
       "      <td>Avita Pura Ryzen 5 Quad Core 3500U</td>\n",
       "      <td>567</td>\n",
       "      <td>0</td>\n",
       "      <td>0</td>\n",
       "      <td>0</td>\n",
       "      <td>0</td>\n",
       "      <td>1</td>\n",
       "      <td>AMD Ryzen 5 Quad Core Processor</td>\n",
       "      <td>0.283863</td>\n",
       "      <td>8</td>\n",
       "      <td>0</td>\n",
       "      <td>1</td>\n",
       "      <td>0</td>\n",
       "      <td>512</td>\n",
       "      <td>0</td>\n",
       "      <td>35.56</td>\n",
       "      <td>0</td>\n",
       "      <td>51490</td>\n",
       "    </tr>\n",
       "    <tr>\n",
       "      <th>567</th>\n",
       "      <td>Lenovo Ideapad S340 Core i3 10th Gen</td>\n",
       "      <td>568</td>\n",
       "      <td>0</td>\n",
       "      <td>0</td>\n",
       "      <td>0</td>\n",
       "      <td>1</td>\n",
       "      <td>0</td>\n",
       "      <td>Intel Core i3 Processor (10th Gen)</td>\n",
       "      <td>0.145791</td>\n",
       "      <td>8</td>\n",
       "      <td>0</td>\n",
       "      <td>1</td>\n",
       "      <td>0</td>\n",
       "      <td>256</td>\n",
       "      <td>0</td>\n",
       "      <td>35.56</td>\n",
       "      <td>0</td>\n",
       "      <td>42990</td>\n",
       "    </tr>\n",
       "    <tr>\n",
       "      <th>568</th>\n",
       "      <td>DELL Athlon Dual Core 3050U</td>\n",
       "      <td>569</td>\n",
       "      <td>0</td>\n",
       "      <td>1</td>\n",
       "      <td>0</td>\n",
       "      <td>0</td>\n",
       "      <td>0</td>\n",
       "      <td>AMD Athlon Dual Core Processor</td>\n",
       "      <td>0.026471</td>\n",
       "      <td>4</td>\n",
       "      <td>0</td>\n",
       "      <td>1</td>\n",
       "      <td>0</td>\n",
       "      <td>256</td>\n",
       "      <td>0</td>\n",
       "      <td>39.62</td>\n",
       "      <td>0</td>\n",
       "      <td>38499</td>\n",
       "    </tr>\n",
       "  </tbody>\n",
       "</table>\n",
       "<p>569 rows × 18 columns</p>\n",
       "</div>"
      ],
      "text/plain": [
       "                               Laptop_Name  Popularity_Rank  ASUS  DELL  HP  \\\n",
       "0        Lenovo IdeaPad 3 Core i3 10th Gen                1     0     0   0   \n",
       "1        Lenovo IdeaPad 3 Core i3 11th Gen                2     0     0   0   \n",
       "2     ASUS TUF Gaming F15 Core i5 10th Gen                3     1     0   0   \n",
       "3                      HP Core i3 11th Gen                4     0     0   1   \n",
       "4                    ASUS Core i3 11th Gen                5     1     0   0   \n",
       "..                                     ...              ...   ...   ...  ..   \n",
       "564  DELL Inspiron Ryzen 3 Dual Core 3250U              565     0     1   0   \n",
       "565                Lenovo Core i3 10th Gen              566     0     0   0   \n",
       "566     Avita Pura Ryzen 5 Quad Core 3500U              567     0     0   0   \n",
       "567   Lenovo Ideapad S340 Core i3 10th Gen              568     0     0   0   \n",
       "568            DELL Athlon Dual Core 3050U              569     0     1   0   \n",
       "\n",
       "     Lenovo  Other brand                           Processor     Score  RAM  \\\n",
       "0         1            0  Intel Core i3 Processor (10th Gen)  0.145791    8   \n",
       "1         1            0  Intel Core i3 Processor (11th Gen)  0.228445    8   \n",
       "2         0            0  Intel Core i5 Processor (10th Gen)  0.232960    8   \n",
       "3         0            0  Intel Core i3 Processor (11th Gen)  0.228445    8   \n",
       "4         0            0  Intel Core i3 Processor (11th Gen)  0.228445    8   \n",
       "..      ...          ...                                 ...       ...  ...   \n",
       "564       0            0     AMD Ryzen 3 Dual Core Processor  0.145135    8   \n",
       "565       1            0  Intel Core i3 Processor (10th Gen)  0.145791    4   \n",
       "566       0            1     AMD Ryzen 5 Quad Core Processor  0.283863    8   \n",
       "567       1            0  Intel Core i3 Processor (10th Gen)  0.145791    8   \n",
       "568       0            0      AMD Athlon Dual Core Processor  0.026471    4   \n",
       "\n",
       "     Other OS  Windows 10  Windows 11  SSD   HDD  Display  Touchscreen  Price  \n",
       "0           0           0           1  256     0    39.62            0  34990  \n",
       "1           0           0           1  512     0    39.62            0  41990  \n",
       "2           0           0           1  512     0    39.62            0  57990  \n",
       "3           0           0           1  256     0    35.56            0  36990  \n",
       "4           0           0           1  256     0    39.62            0  34990  \n",
       "..        ...         ...         ...  ...   ...      ...          ...    ...  \n",
       "564         0           0           1    0  1024    38.00            0  39490  \n",
       "565         0           1           0    0  1024    35.56            0  44590  \n",
       "566         0           1           0  512     0    35.56            0  51490  \n",
       "567         0           1           0  256     0    35.56            0  42990  \n",
       "568         0           1           0  256     0    39.62            0  38499  \n",
       "\n",
       "[569 rows x 18 columns]"
      ]
     },
     "execution_count": 56,
     "metadata": {},
     "output_type": "execute_result"
    }
   ],
   "source": [
    "df = pd.read_csv('laptop_prices.csv')\n",
    "df.rename(columns={'Processor Score (cpubenchmark.net)':'Score'}, inplace = True)\n",
    "df.rename(columns={'RAM Capacity (in GB)':'RAM'}, inplace = True)\n",
    "df.rename(columns={'SSD (in GB)':'SSD', 'HDD (in GB)':'HDD'}, inplace = True)\n",
    "df.rename(columns={'Display (in cm)':'Display'}, inplace = True)\n",
    "df"
   ]
  },
  {
   "cell_type": "code",
   "execution_count": 55,
   "id": "5d81ced3",
   "metadata": {},
   "outputs": [
    {
     "data": {
      "text/plain": [
       "75000"
      ]
     },
     "execution_count": 55,
     "metadata": {},
     "output_type": "execute_result"
    }
   ],
   "source": [
    "df.Price.max()"
   ]
  },
  {
   "cell_type": "code",
   "execution_count": 22,
   "id": "3b0f23b3",
   "metadata": {},
   "outputs": [
    {
     "data": {
      "text/plain": [
       "21490"
      ]
     },
     "execution_count": 22,
     "metadata": {},
     "output_type": "execute_result"
    }
   ],
   "source": [
    "df.Price.min()"
   ]
  },
  {
   "cell_type": "code",
   "execution_count": 23,
   "id": "2f2f3f9d",
   "metadata": {},
   "outputs": [
    {
     "data": {
      "text/plain": [
       "51014.24956063269"
      ]
     },
     "execution_count": 23,
     "metadata": {},
     "output_type": "execute_result"
    }
   ],
   "source": [
    "df.Price.mean()"
   ]
  },
  {
   "cell_type": "code",
   "execution_count": 24,
   "id": "3e930dda",
   "metadata": {},
   "outputs": [
    {
     "data": {
      "text/plain": [
       "49990.0"
      ]
     },
     "execution_count": 24,
     "metadata": {},
     "output_type": "execute_result"
    }
   ],
   "source": [
    "df.Price.median()"
   ]
  },
  {
   "cell_type": "code",
   "execution_count": 113,
   "id": "6d7234b1",
   "metadata": {},
   "outputs": [
    {
     "data": {
      "text/plain": [
       "<matplotlib.collections.PathCollection at 0x2363bb1f5b0>"
      ]
     },
     "execution_count": 113,
     "metadata": {},
     "output_type": "execute_result"
    },
    {
     "data": {
      "image/png": "[encoded data removed]",
      "text/plain": [
       "<Figure size 640x480 with 1 Axes>"
      ]
     },
     "metadata": {},
     "output_type": "display_data"
    }
   ],
   "source": [
    "plt.scatter(df['Score'], df['Price'])"
   ]
  },
  {
   "cell_type": "code",
   "execution_count": 114,
   "id": "c2064d79",
   "metadata": {},
   "outputs": [
    {
     "data": {
      "text/plain": [
       "<matplotlib.collections.PathCollection at 0x2363bb7d7f0>"
      ]
     },
     "execution_count": 114,
     "metadata": {},
     "output_type": "execute_result"
    },
    {
     "data": {
      "image/png": "[encoded data removed]",
      "text/plain": [
       "<Figure size 640x480 with 1 Axes>"
      ]
     },
     "metadata": {},
     "output_type": "display_data"
    }
   ],
   "source": [
    "plt.scatter(df['RAM'], df['Price'])"
   ]
  },
  {
   "cell_type": "code",
   "execution_count": 115,
   "id": "543c0e06",
   "metadata": {},
   "outputs": [
    {
     "data": {
      "text/plain": [
       "<matplotlib.collections.PathCollection at 0x2363cb70fa0>"
      ]
     },
     "execution_count": 115,
     "metadata": {},
     "output_type": "execute_result"
    },
    {
     "data": {
      "image/png": "[encoded data removed]",
      "text/plain": [
       "<Figure size 640x480 with 1 Axes>"
      ]
     },
     "metadata": {},
     "output_type": "display_data"
    }
   ],
   "source": [
    "plt.scatter(df['HDD'], df['Price'])"
   ]
  },
  {
   "cell_type": "code",
   "execution_count": 116,
   "id": "688c0140",
   "metadata": {},
   "outputs": [
    {
     "data": {
      "text/plain": [
       "<matplotlib.collections.PathCollection at 0x2363cbd1e20>"
      ]
     },
     "execution_count": 116,
     "metadata": {},
     "output_type": "execute_result"
    },
    {
     "data": {
      "image/png": "[encoded data removed]",
      "text/plain": [
       "<Figure size 640x480 with 1 Axes>"
      ]
     },
     "metadata": {},
     "output_type": "display_data"
    }
   ],
   "source": [
    "plt.scatter(df['SSD'], df['Price'])"
   ]
  },
  {
   "cell_type": "code",
   "execution_count": 95,
   "id": "50ba7018",
   "metadata": {},
   "outputs": [
    {
     "data": {
      "text/plain": [
       "<matplotlib.collections.PathCollection at 0x2363baabee0>"
      ]
     },
     "execution_count": 95,
     "metadata": {},
     "output_type": "execute_result"
    },
    {
     "data": {
      "image/png": "[encoded data removed]",
      "text/plain": [
       "<Figure size 640x480 with 1 Axes>"
      ]
     },
     "metadata": {},
     "output_type": "display_data"
    }
   ],
   "source": [
    "plt.scatter(df['Display'], df['Price'])"
   ]
  },
  {
   "cell_type": "code",
   "execution_count": 105,
   "id": "71d08a26",
   "metadata": {},
   "outputs": [],
   "source": [
    "X =df[['ASUS', 'DELL', 'HP', 'Lenovo',  'Other brand', 'Score', 'RAM','SSD', 'HDD', 'Display']]\n",
    "y = df['Price']"
   ]
  },
  {
   "cell_type": "code",
   "execution_count": 106,
   "id": "1297526c",
   "metadata": {},
   "outputs": [],
   "source": [
    "X_train, X_test, y_train, y_test = train_test_split(X, y, test_size = 0.8)"
   ]
  },
  {
   "cell_type": "code",
   "execution_count": 107,
   "id": "db451626",
   "metadata": {},
   "outputs": [
    {
     "data": {
      "text/plain": [
       "LinearRegression()"
      ]
     },
     "execution_count": 107,
     "metadata": {},
     "output_type": "execute_result"
    }
   ],
   "source": [
    "reg = linear_model.LinearRegression()\n",
    "reg.fit(X_train, y_train)"
   ]
  },
  {
   "cell_type": "code",
   "execution_count": 108,
   "id": "016a7b3b",
   "metadata": {},
   "outputs": [
    {
     "data": {
      "text/plain": [
       "array([-1.18577215e+03,  2.51458475e+03,  1.59346276e+03, -2.15552102e+03,\n",
       "       -7.66754335e+02,  2.81381600e+04,  9.14189353e+02,  2.62571969e+01,\n",
       "        5.62520116e+00,  7.96135317e+01])"
      ]
     },
     "execution_count": 108,
     "metadata": {},
     "output_type": "execute_result"
    }
   ],
   "source": [
    "reg.coef_"
   ]
  },
  {
   "cell_type": "code",
   "execution_count": 109,
   "id": "bcec2f80",
   "metadata": {},
   "outputs": [
    {
     "data": {
      "text/plain": [
       "20267.32291279835"
      ]
     },
     "execution_count": 109,
     "metadata": {},
     "output_type": "execute_result"
    }
   ],
   "source": [
    "reg.intercept_"
   ]
  },
  {
   "cell_type": "code",
   "execution_count": 110,
   "id": "1c4485f1",
   "metadata": {},
   "outputs": [
    {
     "data": {
      "text/plain": [
       "array([47958.92176213, 52053.02266132, 36698.28321569, 38719.21590987,\n",
       "       39411.84605092, 34462.10882356, 99957.49176794, 59319.08154768,\n",
       "       59358.42502133, 40894.86282169, 57038.24690484, 73910.43343095,\n",
       "       68563.98166035, 31427.89912389, 59156.20665083, 56715.01596618,\n",
       "       45646.29873903, 63706.47080451, 50795.68175201, 56117.12491914,\n",
       "       42627.17894436, 46177.28792804, 43112.20294416, 38442.09717459,\n",
       "       41729.45538457, 56117.12491914, 41729.45538457, 30134.54440949,\n",
       "       32410.02647522, 48128.06684214, 50316.40450861, 52159.76713876,\n",
       "       39461.46466033, 53248.44739912, 38515.88171161, 56346.22293531,\n",
       "       42699.2042609 , 42770.53017101, 42375.97332223, 47616.70521793,\n",
       "       42699.2042609 , 56117.12491914, 61250.46683563, 51814.49477923,\n",
       "       48451.2977808 , 60280.7179593 , 57391.8001482 , 48555.19711865,\n",
       "       60328.17389766, 37059.64130508, 64627.59279021, 64627.59279021,\n",
       "       42172.63912397, 56715.01596618, 41348.30986683, 39461.46466033,\n",
       "       70528.53551443, 71498.28439076, 41864.61169802, 40469.26933567,\n",
       "       47616.70521793, 45155.20822977, 47293.47427926, 52368.14113527,\n",
       "       44171.53039729, 49643.87737901, 31427.89912389, 60927.23589697,\n",
       "       64351.76172956, 51877.05062601, 45155.20822977, 37884.623347  ,\n",
       "       46125.57598244, 38442.09717459, 52376.25359998, 46076.33021547,\n",
       "       54468.96802071, 38072.69797221, 49834.0453404 , 51877.05062601,\n",
       "       60747.19170946, 46076.33021547, 52368.14113527, 49643.87737901,\n",
       "       49005.47190606, 56715.01596618, 46270.5872328 , 53756.9078234 ,\n",
       "       52474.77482238, 35755.08863856, 41923.51487404, 33845.33295018,\n",
       "       48179.77878773, 63706.47080451, 51406.50472365, 49834.0453404 ,\n",
       "       49643.87737901, 49856.11793183, 36698.28321569, 47095.32485877,\n",
       "       46125.57598244, 45854.05698937, 36393.49411151, 30359.82247311,\n",
       "       64028.5307909 , 52278.93712977, 43839.14342372, 41737.56784928,\n",
       "       40355.04062805, 45854.05698937, 41406.2244459 , 32086.79553656,\n",
       "       60328.17389766, 38140.4958355 , 52795.27141178, 33853.52789151,\n",
       "       43750.60841711, 51877.05062601, 64028.5307909 , 49551.32882765,\n",
       "       53967.67942251, 56334.37686345, 49834.0453404 , 52925.21646046,\n",
       "       46399.56115414, 40050.25152387, 83648.98936824, 64627.59279021,\n",
       "       49643.87737901, 46073.42901554, 52118.56492096, 32479.17595332,\n",
       "       60328.17389766, 49548.09050588, 40894.86282169, 61346.25370876,\n",
       "       41737.56784928, 47958.92176213, 63426.18324282, 42922.03498278,\n",
       "       48578.34162955, 60651.40483632, 51076.19413826, 49031.53715832,\n",
       "       61346.25370876, 49840.06446893, 39403.73358621, 48752.54335895,\n",
       "       42375.97332223, 51399.42507692, 31601.15299324, 38507.32625504,\n",
       "       49439.87985053, 47095.32485877, 42172.63912397, 59689.7684247 ,\n",
       "       35755.08863856, 59358.42502133, 52376.25359998, 60632.76088092,\n",
       "       39492.53673279, 58782.63102738, 45750.19807688, 49548.09050588,\n",
       "       51877.05062601, 42885.15128566, 49171.56117074, 41406.2244459 ,\n",
       "       49097.81571847, 42699.2042609 , 53121.40355037, 44055.39752129,\n",
       "       45437.92474252, 49233.75552882, 50777.23991753, 48255.11069088,\n",
       "       45308.95082118, 61669.48464743, 49548.09050588, 48255.11069088,\n",
       "       29209.98067146, 41541.38075936, 71343.21656789, 46292.8166767 ,\n",
       "       38072.69797221, 53433.67688474, 35746.97617385, 64950.82372887,\n",
       "       52200.28156467, 41811.31330155, 45437.92474252, 50777.23991753,\n",
       "       46076.16336481, 41737.56784928, 52044.91019661, 49548.09050588,\n",
       "       55793.89398048, 71019.98562923, 53014.65907294, 32241.91539569,\n",
       "       59473.28196348, 48128.06684214, 60288.83042401, 36174.10645036,\n",
       "       45155.20822977, 49548.09050588, 37998.78374909, 57391.8001482 ,\n",
       "       43438.56744641, 58459.40008871, 61250.46683563, 64028.5307909 ,\n",
       "       64029.70174317, 42283.62950982, 48173.90488856, 52118.56492096,\n",
       "       68124.44895084, 63068.06533155, 29628.99848325, 49686.62958457,\n",
       "       40051.71307231, 42794.99113403, 39080.50264754, 46076.33021547,\n",
       "       42699.2042609 , 52368.14113527, 56715.01596618, 53014.65907294,\n",
       "       55793.89398048, 54468.96802071, 53337.8900116 , 66781.57480408,\n",
       "       60280.7179593 , 53433.67688474, 52472.04047312, 42375.97332223,\n",
       "       39403.73358621, 34264.35076198, 49031.53715832, 48433.64611129,\n",
       "       56117.12491914, 43093.76110967, 49097.81571847, 39042.44684854,\n",
       "       66640.77353492, 56076.61049323, 42699.2042609 , 64603.78737784,\n",
       "       46270.5872328 , 52795.27141178, 48894.48152021, 61669.48464743,\n",
       "       40093.85100475, 41608.4428164 , 35746.97617385, 47635.69082347,\n",
       "       48128.06684214, 35755.08863856, 35755.08863856, 42283.62950982,\n",
       "       42983.22902282, 64351.76172956, 35746.97617385, 40469.26933567,\n",
       "       49421.04665713, 46076.33021547, 55753.37955456, 48586.45409426,\n",
       "       39042.44684854, 49982.49845035, 46133.68844716, 53756.9078234 ,\n",
       "       38160.39921842, 49548.09050588, 63564.7587181 , 40296.06937525,\n",
       "       64351.76172956, 43926.42359995, 62991.77529835, 44073.83935578,\n",
       "       43438.56744641, 49551.32882765, 67129.28975895, 40716.39871744,\n",
       "       45114.69380386, 50078.28532348, 63107.4088052 , 53433.67688474,\n",
       "       35681.93253829, 48459.41024552, 49834.0453404 , 34946.83370009,\n",
       "       93118.43597059, 49117.71910139, 46440.81871345, 48451.2977808 ,\n",
       "       59681.65595999, 44055.39752129, 73910.43343095, 49171.56117074,\n",
       "       47635.69082347, 64029.70174317, 48610.83127254, 52376.25359998,\n",
       "       42699.2042609 , 33778.30222363, 43134.27553559, 48586.45409426,\n",
       "       64291.25544548, 54262.53543279, 64029.70174317, 49421.04665713,\n",
       "       51399.42507692, 43944.86543444, 41864.61169802, 54049.95020891,\n",
       "       64351.76172956, 49984.54752744, 45155.20822977, 52044.91019661,\n",
       "       52286.8109875 , 56715.01596618, 34766.89792774, 45437.92474252,\n",
       "       53433.67688474, 30683.05341178, 56076.61049323, 52992.42962904,\n",
       "       47191.11173191, 59358.42502133, 41388.82429275, 53433.67688474,\n",
       "       54357.5332197 , 64029.70174317, 49117.71910139, 38442.09717459,\n",
       "       62891.78975105, 42788.9720055 , 60927.23589697, 35427.766411  ,\n",
       "       51877.05062601, 38499.82824872, 57307.85934693, 53756.9078234 ,\n",
       "       54680.76415837, 52368.14113527, 45478.43916844, 52044.91019661,\n",
       "       50472.45081335, 51399.42507692, 64029.70174317, 44516.80275682,\n",
       "       33056.54441289, 53756.9078234 , 64029.70174317, 59681.65595999,\n",
       "       48128.06684214, 70528.53551443, 71019.98562923, 37951.68540404,\n",
       "       64029.70174317, 70878.27354282, 35431.8576999 , 41406.2244459 ,\n",
       "       48578.34162955, 47293.47427926, 35746.97617385, 44193.57181815,\n",
       "       35029.92824269, 46270.5872328 , 63107.4088052 , 38603.59111245,\n",
       "       48578.34162955, 44643.84660556, 37925.74261405, 33379.77535155,\n",
       "       43112.20294416, 36765.78920106, 52376.25359998, 49643.87737901,\n",
       "       39108.51849518, 39403.73358621, 42699.2042609 , 59921.60739968,\n",
       "       37792.95839377, 59319.08154768, 63107.4088052 , 62891.78975105,\n",
       "       48156.08268977, 32418.13893993, 38088.79460801, 54890.05685155,\n",
       "       52044.91019661, 63706.47080451, 49571.23221057, 39403.73358621,\n",
       "       64950.82372887, 62075.48478541, 47616.70521793, 61669.48464743,\n",
       "       43118.22207269, 47641.0823962 , 46399.56115414, 48578.34162955,\n",
       "       45155.20822977, 60995.33529323, 42699.2042609 , 48451.2977808 ,\n",
       "       36765.78920106, 64028.5307909 , 56715.01596618, 49532.88699316,\n",
       "       59681.65595999, 64821.84980753, 53759.64217267, 53088.31379729,\n",
       "       48578.34162955, 49516.83353027, 40919.73074304, 39080.50264754,\n",
       "       51399.42507692, 52220.77250439, 52376.25359998, 64130.56982794,\n",
       "       44516.80275682, 39403.73358621, 44808.79866183, 29209.98067146,\n",
       "       76595.6909253 , 49516.83353027, 34108.80625699, 55753.37955456,\n",
       "       50657.17632646, 48106.02542128, 49171.56117074, 53759.64217267,\n",
       "       42308.0066881 , 49874.55976631, 54248.3511102 , 70878.27354282,\n",
       "       60328.17389766, 53433.67688474, 50472.45081335, 33845.33295018,\n",
       "       50795.68175201, 32989.91968137, 57296.01327507, 39461.46466033,\n",
       "       40894.86282169, 43115.33650775, 42449.71877451, 52368.14113527,\n",
       "       53759.64217267, 53756.9078234 , 59689.7684247 , 60033.69888161])"
      ]
     },
     "execution_count": 110,
     "metadata": {},
     "output_type": "execute_result"
    }
   ],
   "source": [
    "reg.predict(X_test)"
   ]
  },
  {
   "cell_type": "code",
   "execution_count": 111,
   "id": "f089bf35",
   "metadata": {},
   "outputs": [
    {
     "data": {
      "text/plain": [
       "217    42490\n",
       "30     47990\n",
       "39     31990\n",
       "461    41990\n",
       "226    37990\n",
       "       ...  \n",
       "486    58990\n",
       "417    52380\n",
       "229    57990\n",
       "159    69990\n",
       "323    64450\n",
       "Name: Price, Length: 456, dtype: int64"
      ]
     },
     "execution_count": 111,
     "metadata": {},
     "output_type": "execute_result"
    }
   ],
   "source": [
    "y_test"
   ]
  },
  {
   "cell_type": "code",
   "execution_count": 112,
   "id": "99bf0ff2",
   "metadata": {},
   "outputs": [
    {
     "data": {
      "text/plain": [
       "0.4495524259524005"
      ]
     },
     "execution_count": 112,
     "metadata": {},
     "output_type": "execute_result"
    }
   ],
   "source": [
    "reg.score(X_test, y_test)"
   ]
  },
  {
   "cell_type": "code",
   "execution_count": null,
   "id": "51e9c363",
   "metadata": {},
   "outputs": [],
   "source": []
  },
  {
   "cell_type": "code",
   "execution_count": null,
   "id": "c044a949",
   "metadata": {},
   "outputs": [],
   "source": []
  }
 ],
 "metadata": {
  "kernelspec": {
   "display_name": "Python 3 (ipykernel)",
   "language": "python",
   "name": "python3"
  },
  "language_info": {
   "codemirror_mode": {
    "name": "ipython",
    "version": 3
   },
   "file_extension": ".py",
   "mimetype": "text/x-python",
   "name": "python",
   "nbconvert_exporter": "python",
   "pygments_lexer": "ipython3",
   "version": "3.9.13"
  }
 },
 "nbformat": 4,
 "nbformat_minor": 5
}
